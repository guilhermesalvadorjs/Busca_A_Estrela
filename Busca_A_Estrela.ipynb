{
  "nbformat": 4,
  "nbformat_minor": 0,
  "metadata": {
    "colab": {
      "provenance": []
    },
    "kernelspec": {
      "name": "python3",
      "display_name": "Python 3"
    },
    "language_info": {
      "name": "python"
    }
  },
  "cells": [
    {
      "cell_type": "markdown",
      "source": [
        "# Busca A*"
      ],
      "metadata": {
        "id": "yc6zFLAfXGzA"
      }
    },
    {
      "cell_type": "markdown",
      "source": [
        "## Grafo"
      ],
      "metadata": {
        "id": "878BcP4QYVkG"
      }
    },
    {
      "cell_type": "code",
      "execution_count": null,
      "metadata": {
        "id": "wuJ7sPzuXD-u"
      },
      "outputs": [],
      "source": [
        "class Vertice:\n",
        "  def __init__(self, rotulo, distancia_objetivo):\n",
        "    self.rotulo = rotulo\n",
        "    self.distancia_objetivo = distancia_objetivo\n",
        "    self.visitada = False\n",
        "    self.adjacentes = []\n",
        "\n",
        "  def adicionar_adjacente(self, adjacente):\n",
        "    self.adjacentes.append(adjacente)\n",
        "\n",
        "  def mostra_adjacentes(self):\n",
        "    for i in self.adjacentes:\n",
        "      print(f'{i.vertice.rotulo} -> {i.custo}')"
      ]
    },
    {
      "cell_type": "code",
      "source": [
        "class Adjacente:\n",
        "  def __init__(self, vertice, custo):\n",
        "    self.vertice = vertice\n",
        "    self.custo = custo\n",
        "    self.distancia_aestrela = vertice.distancia_objetivo + self.custo"
      ],
      "metadata": {
        "id": "mfg_SHrgXVnu"
      },
      "execution_count": null,
      "outputs": []
    },
    {
      "cell_type": "code",
      "source": [
        "class Grafo:\n",
        "  arad = Vertice('Arad', 366)\n",
        "  zerind = Vertice('Zerind', 374)\n",
        "  oradea = Vertice('Oradea', 380)\n",
        "  sibiu = Vertice('Sibiu', 253)\n",
        "  timisoara = Vertice('Timisoara', 329)\n",
        "  lugoj = Vertice('Lugoj', 244)\n",
        "  mehadia = Vertice('Mehadia', 241)\n",
        "  dobreta = Vertice('Dobreta', 242)\n",
        "  craiova = Vertice('Craiova', 160)\n",
        "  rimnicu = Vertice('Rimnicu', 193)\n",
        "  fagaras = Vertice('Fagaras', 178)\n",
        "  pitesti = Vertice('Pitesti', 98)\n",
        "  bucharest = Vertice('Bucharest', 0)\n",
        "  giurgiu = Vertice('Giurgiu', 77)\n",
        "\n",
        "  arad.adiciona_adjacente(Adjacente(zerind, 75))\n",
        "  arad.adiciona_adjacente(Adjacente(sibiu, 140))\n",
        "  arad.adiciona_adjacente(Adjacente(timisoara, 118))\n",
        "\n",
        "  zerind.adiciona_adjacente(Adjacente(arad, 75))\n",
        "  zerind.adiciona_adjacente(Adjacente(oradea, 71))\n",
        "\n",
        "  oradea.adiciona_adjacente(Adjacente(zerind, 71))\n",
        "  oradea.adiciona_adjacente(Adjacente(sibiu, 151))\n",
        "\n",
        "  sibiu.adiciona_adjacente(Adjacente(oradea, 71))\n",
        "  sibiu.adiciona_adjacente(Adjacente(arad, 140))\n",
        "  sibiu.adiciona_adjacente(Adjacente(fagaras, 99))\n",
        "  sibiu.adiciona_adjacente(Adjacente(rimnicu, 80))\n",
        "\n",
        "  timisoara.adiciona_adjacente(Adjacente(arad, 118))\n",
        "  timisoara.adiciona_adjacente(Adjacente(lugoj, 111))\n",
        "\n",
        "  lugoj.adiciona_adjacente(Adjacente(timisoara, 111))\n",
        "  lugoj.adiciona_adjacente(Adjacente(mehadia, 70))\n",
        "\n",
        "  mehadia.adiciona_adjacente(Adjacente(lugoj, 70))\n",
        "  mehadia.adiciona_adjacente(Adjacente(dobreta, 75))\n",
        "\n",
        "  dobreta.adiciona_adjacente(Adjacente(mehadia, 75))\n",
        "  dobreta.adiciona_adjacente(Adjacente(craiova, 120))\n",
        "\n",
        "  craiova.adiciona_adjacente(Adjacente(dobreta, 120))\n",
        "  craiova.adiciona_adjacente(Adjacente(pitesti, 138))\n",
        "  craiova.adiciona_adjacente(Adjacente(rimnicu, 146))\n",
        "\n",
        "  rimnicu.adiciona_adjacente(Adjacente(craiova, 146))\n",
        "  rimnicu.adiciona_adjacente(Adjacente(sibiu, 80))\n",
        "  rimnicu.adiciona_adjacente(Adjacente(pitesti, 97))\n",
        "\n",
        "  fagaras.adiciona_adjacente(Adjacente(sibiu, 99))\n",
        "  fagaras.adiciona_adjacente(Adjacente(bucharest, 211))\n",
        "\n",
        "  pitesti.adiciona_adjacente(Adjacente(rimnicu, 97))\n",
        "  pitesti.adiciona_adjacente(Adjacente(bucharest, 101))\n",
        "  pitesti.adiciona_adjacente(Adjacente(craiova, 138))\n",
        "\n",
        "  bucharest.adiciona_adjacente(Adjacente(fagaras, 211))\n",
        "  bucharest.adiciona_adjacente(Adjacente(pitesti, 101))\n",
        "  bucharest.adiciona_adjacente(Adjacente(giurgiu, 90))"
      ],
      "metadata": {
        "id": "U34VMb9FYJ_g"
      },
      "execution_count": null,
      "outputs": []
    },
    {
      "cell_type": "code",
      "source": [
        "grafo = Grafo()"
      ],
      "metadata": {
        "id": "KEVsNvqLYM6P"
      },
      "execution_count": null,
      "outputs": []
    },
    {
      "cell_type": "markdown",
      "source": [
        "## Vetor Ordenado"
      ],
      "metadata": {
        "id": "3qp3o4KTYR4n"
      }
    },
    {
      "cell_type": "code",
      "source": [
        "import numpy as np"
      ],
      "metadata": {
        "id": "4_h8MBSLYhYH"
      },
      "execution_count": null,
      "outputs": []
    },
    {
      "cell_type": "code",
      "source": [
        "class VetorOrdenado:\n",
        "  def __init__(vetor, capacidade):\n",
        "    vetor.capacidade = capacidade\n",
        "    vetor.ultima_posicao = -1\n",
        "    vetor.valores = np.empty(vetor.capacidade, dtype=object)\n",
        "\n",
        "  def inserir(vetor, adjacente):\n",
        "    if (vetor.ultima_posicao == vetor.capacidade - 1):\n",
        "      print('Capacidade máxima já atingida!')\n",
        "      return\n",
        "    posicao = 0\n",
        "    for i in range(vetor.ultima_posicao + 1):\n",
        "      posicao = i\n",
        "      if vetor.valores[i].distancia_aestrela > adjacente.distancia_aestrela:\n",
        "        break\n",
        "      if i == vetor.ultima_posicao:\n",
        "        posicao = i + 1\n",
        "    x = vetor.ultima_posicao\n",
        "    while x >= posicao:\n",
        "      vetor.valores[x + 1] = vetor.valores[x]\n",
        "      x -= 1\n",
        "    vetor.valores[posicao] = adjacente\n",
        "    vetor.ultima_posicao += 1\n",
        "\n",
        "  def imprimir(vetor):\n",
        "    if vetor.ultima_posicao == -1:\n",
        "      print('O vetor está vazio!')\n",
        "    else:\n",
        "      for i in range(vetor.ultima_posicao + 1):\n",
        "        print(f'[{i}] - {vetor.valores[i].vertice.rotulo} - Distância entre as cidades: {vetor.valores[i].custo}',\n",
        "              f'- Distância em linha reta: {vetor.valores[i].vertice.distancia_objetivo} - Distância total: {vetor.valores[i].distancia_aestrela}')"
      ],
      "metadata": {
        "id": "rG_KlS_wYnAf"
      },
      "execution_count": null,
      "outputs": []
    },
    {
      "cell_type": "code",
      "source": [
        "grafo.arad.adjacentes"
      ],
      "metadata": {
        "colab": {
          "base_uri": "https://localhost:8080/"
        },
        "id": "s7N6FywYZ_6A",
        "outputId": "9d8987b7-235f-478e-f6ed-f9ee0995664f"
      },
      "execution_count": null,
      "outputs": [
        {
          "output_type": "execute_result",
          "data": {
            "text/plain": [
              "[<__main__.Adjacente at 0x7820af9906d0>,\n",
              " <__main__.Adjacente at 0x7820af990730>,\n",
              " <__main__.Adjacente at 0x7820af990790>]"
            ]
          },
          "metadata": {},
          "execution_count": 35
        }
      ]
    },
    {
      "cell_type": "code",
      "source": [
        "vetor = VetorOrdenado(10)\n",
        "vetor.inserir(grafo.arad.adjacentes[0])\n",
        "vetor.inserir(grafo.arad.adjacentes[1])\n",
        "vetor.inserir(grafo.arad.adjacentes[2])"
      ],
      "metadata": {
        "id": "lNnyb7lEaD63"
      },
      "execution_count": null,
      "outputs": []
    },
    {
      "cell_type": "code",
      "source": [
        "vetor.imprimir()"
      ],
      "metadata": {
        "colab": {
          "base_uri": "https://localhost:8080/"
        },
        "id": "vrDk7u6Waafp",
        "outputId": "5584889f-ae2e-4cca-f8e0-fc735a937643"
      },
      "execution_count": null,
      "outputs": [
        {
          "output_type": "stream",
          "name": "stdout",
          "text": [
            "[0] - Sibiu - Distância entre as cidades: 140 - Distância em linha reta: 253 - Distância total: 393\n",
            "[1] - Timisoara - Distância entre as cidades: 118 - Distância em linha reta: 329 - Distância total: 447\n",
            "[2] - Zerind - Distância entre as cidades: 75 - Distância em linha reta: 374 - Distância total: 449\n"
          ]
        }
      ]
    },
    {
      "cell_type": "markdown",
      "source": [
        "## Busca A*"
      ],
      "metadata": {
        "id": "DOp4NMS0a36J"
      }
    },
    {
      "cell_type": "code",
      "source": [
        "class AEstrela:\n",
        "  def __init__(self, objetivo):\n",
        "    self.objetivo = objetivo\n",
        "    self.encontrado = False\n",
        "\n",
        "  def buscar(self, atual):\n",
        "    print('------------------------------')\n",
        "    print(f'Cidade atual: {atual.rotulo}')\n",
        "    atual.visitada = True\n",
        "\n",
        "    if atual == self.objetivo:\n",
        "      self.encontrado = True\n",
        "      print('Destino encontrado! :D')\n",
        "    else:\n",
        "      vetor_ordenado = VetorOrdenado(len(atual.adjacentes))\n",
        "      for adjacente in atual.adjacentes:\n",
        "        if (adjacente.vertice.visitada == False):\n",
        "          adjacente.vertice.visitada == True\n",
        "          vetor_ordenado.inserir(adjacente)\n",
        "      vetor_ordenado.imprimir()\n",
        "\n",
        "      if (vetor_ordenado.valores[0] != None):\n",
        "        self.buscar(vetor_ordenado.valores[0].vertice)"
      ],
      "metadata": {
        "id": "tIprIZXOa6HA"
      },
      "execution_count": null,
      "outputs": []
    },
    {
      "cell_type": "code",
      "source": [
        "busca_aaestrela = AEstrela(grafo.bucharest)\n",
        "busca_aaestrela.buscar(grafo.arad)\n"
      ],
      "metadata": {
        "colab": {
          "base_uri": "https://localhost:8080/"
        },
        "id": "EKY880Hscd_h",
        "outputId": "b905a826-93e4-47c0-919f-bc7d949a7c12"
      },
      "execution_count": null,
      "outputs": [
        {
          "output_type": "stream",
          "name": "stdout",
          "text": [
            "------------------------------\n",
            "Cidade atual: Arad\n",
            "[0] - Sibiu - Distância entre as cidades: 140 - Distância em linha reta: 253 - Distância total: 393\n",
            "[1] - Timisoara - Distância entre as cidades: 118 - Distância em linha reta: 329 - Distância total: 447\n",
            "[2] - Zerind - Distância entre as cidades: 75 - Distância em linha reta: 374 - Distância total: 449\n",
            "------------------------------\n",
            "Cidade atual: Sibiu\n",
            "[0] - Rimnicu - Distância entre as cidades: 80 - Distância em linha reta: 193 - Distância total: 273\n",
            "[1] - Fagaras - Distância entre as cidades: 99 - Distância em linha reta: 178 - Distância total: 277\n",
            "[2] - Oradea - Distância entre as cidades: 151 - Distância em linha reta: 380 - Distância total: 531\n",
            "------------------------------\n",
            "Cidade atual: Rimnicu\n",
            "[0] - Pitesti - Distância entre as cidades: 97 - Distância em linha reta: 98 - Distância total: 195\n",
            "[1] - Craiova - Distância entre as cidades: 146 - Distância em linha reta: 160 - Distância total: 306\n",
            "------------------------------\n",
            "Cidade atual: Pitesti\n",
            "[0] - Bucharest - Distância entre as cidades: 101 - Distância em linha reta: 0 - Distância total: 101\n",
            "[1] - Craiova - Distância entre as cidades: 138 - Distância em linha reta: 160 - Distância total: 298\n",
            "------------------------------\n",
            "Cidade atual: Bucharest\n",
            "Destino encontrado! :D\n"
          ]
        }
      ]
    }
  ]
}